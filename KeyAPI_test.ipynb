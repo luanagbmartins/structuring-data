{
 "cells": [
  {
   "cell_type": "code",
   "execution_count": null,
   "id": "9848ca39-17ef-489c-8ec7-0524ccaa1466",
   "metadata": {},
   "outputs": [],
   "source": []
  },
  {
   "cell_type": "code",
   "execution_count": 1,
   "id": "3d2cbb17-eb8a-4547-a83b-3fd70cc46918",
   "metadata": {},
   "outputs": [],
   "source": [
    "import numpy as np\n",
    "import spacy\n",
    "import jsonlines\n",
    "from keybert import KeyBERT"
   ]
  },
  {
   "cell_type": "code",
   "execution_count": null,
   "id": "09e2b899-be6f-4e09-928f-8019f049619b",
   "metadata": {},
   "outputs": [],
   "source": []
  },
  {
   "cell_type": "code",
   "execution_count": null,
   "id": "0d69244f-964a-4a66-9926-f88239fcaa22",
   "metadata": {},
   "outputs": [],
   "source": []
  },
  {
   "cell_type": "code",
   "execution_count": 5,
   "id": "36e2dd92-b324-4ef1-bf1c-12789f6939f7",
   "metadata": {},
   "outputs": [],
   "source": [
    "descriptions=[]\n",
    "with jsonlines.open('output_jobs.jl') as f:\n",
    "\n",
    "    for line in f.iter():\n",
    "\n",
    "        descriptions.append(line['description'].replace(\"\\n\",\"\").replace(\"\\r\", \"\"))"
   ]
  },
  {
   "cell_type": "code",
   "execution_count": 6,
   "id": "ec090d1c-81d0-4167-8eac-68925e2cb48a",
   "metadata": {},
   "outputs": [],
   "source": [
    "import random\n",
    "random.shuffle(descriptions)\n",
    "split_point = int(len(descriptions)*0.10)\n",
    "set_01 = descriptions[:-split_point]\n",
    "set_02 = descriptions[-split_point:]"
   ]
  },
  {
   "cell_type": "code",
   "execution_count": 4,
   "id": "9f9622a8-7897-4803-9cb8-d26ee57e14bf",
   "metadata": {},
   "outputs": [],
   "source": [
    "import extractor"
   ]
  },
  {
   "cell_type": "code",
   "execution_count": null,
   "id": "151832bd-773b-4bdc-83dd-2fe5c949e68c",
   "metadata": {},
   "outputs": [],
   "source": [
    "extractor.extract_and_index(set_01)"
   ]
  },
  {
   "cell_type": "code",
   "execution_count": 2,
   "id": "3a0a8e96-c45e-4416-b88d-24a0e233bc33",
   "metadata": {},
   "outputs": [],
   "source": [
    "from similarity import Finder"
   ]
  },
  {
   "cell_type": "code",
   "execution_count": 3,
   "id": "4708b4ae-1776-43f5-88db-c27ff20d55fd",
   "metadata": {},
   "outputs": [],
   "source": [
    "finder = Finder('indexed_docs/2021-06-23_18-51-13-808533', diversity=0.5)"
   ]
  },
  {
   "cell_type": "code",
   "execution_count": 7,
   "id": "0d7be428-4858-4cc0-a673-66f001828e88",
   "metadata": {},
   "outputs": [
    {
     "data": {
      "text/plain": [
       "'                     PRÉ REQUISITOS   Formação em Medicina Veterinária;  Experiência de pelo menos 1 ano no ramo veterinário – pets;  Inglês Intermediário-Avançado;  Diferencial – iniciação científica/publicação de estudos;  Experiência anterior como promotor técnico.   Marcado como:  Assistência Técnica ,  Mercado Pet ,  Pet             '"
      ]
     },
     "execution_count": 7,
     "metadata": {},
     "output_type": "execute_result"
    }
   ],
   "source": [
    "set_02[9]"
   ]
  },
  {
   "cell_type": "code",
   "execution_count": 8,
   "id": "778c660e-fb61-4ef5-86b0-920341743991",
   "metadata": {},
   "outputs": [],
   "source": [
    "out, keys = finder.get_similar(set_02[9])"
   ]
  },
  {
   "cell_type": "code",
   "execution_count": 9,
   "id": "5904c14c-367f-4423-a337-fd505cf29471",
   "metadata": {},
   "outputs": [
    {
     "data": {
      "text/html": [
       "<div>\n",
       "<style scoped>\n",
       "    .dataframe tbody tr th:only-of-type {\n",
       "        vertical-align: middle;\n",
       "    }\n",
       "\n",
       "    .dataframe tbody tr th {\n",
       "        vertical-align: top;\n",
       "    }\n",
       "\n",
       "    .dataframe thead th {\n",
       "        text-align: right;\n",
       "    }\n",
       "</style>\n",
       "<table border=\"1\" class=\"dataframe\">\n",
       "  <thead>\n",
       "    <tr style=\"text-align: right;\">\n",
       "      <th></th>\n",
       "      <th>doc</th>\n",
       "      <th>keys</th>\n",
       "      <th>distances</th>\n",
       "    </tr>\n",
       "  </thead>\n",
       "  <tbody>\n",
       "    <tr>\n",
       "      <th>852</th>\n",
       "      <td>descrição   prover atendi...</td>\n",
       "      <td>[(clínica veterinária, 0.3921), (pré estabelec...</td>\n",
       "      <td>0.481387</td>\n",
       "    </tr>\n",
       "    <tr>\n",
       "      <th>694</th>\n",
       "      <td>estamos em busca de estud...</td>\n",
       "      <td>[(veterinária zootecnia, 0.3019), (mercado pet...</td>\n",
       "      <td>0.524255</td>\n",
       "    </tr>\n",
       "    <tr>\n",
       "      <th>690</th>\n",
       "      <td>pré requisitos   formação...</td>\n",
       "      <td>[(inglês intermediário, 0.3841), (promotor téc...</td>\n",
       "      <td>0.552846</td>\n",
       "    </tr>\n",
       "    <tr>\n",
       "      <th>856</th>\n",
       "      <td>oportunidade para consult...</td>\n",
       "      <td>[(veterinária zootecnia, 0.3928), (medicina ve...</td>\n",
       "      <td>0.582246</td>\n",
       "    </tr>\n",
       "    <tr>\n",
       "      <th>340</th>\n",
       "      <td>atribuições   realizar ve...</td>\n",
       "      <td>[(zootecnia medicina, 0.5225), (nutrição anima...</td>\n",
       "      <td>0.593750</td>\n",
       "    </tr>\n",
       "    <tr>\n",
       "      <th>584</th>\n",
       "      <td>quais serão as atividades...</td>\n",
       "      <td>[(clínica veterinária, 0.47), (precisa concorr...</td>\n",
       "      <td>0.598223</td>\n",
       "    </tr>\n",
       "    <tr>\n",
       "      <th>722</th>\n",
       "      <td>requisitos   formação zoo...</td>\n",
       "      <td>[(medicina veterinária, 0.4252), (zootecnia me...</td>\n",
       "      <td>0.615298</td>\n",
       "    </tr>\n",
       "    <tr>\n",
       "      <th>163</th>\n",
       "      <td>requisitos   disponibilid...</td>\n",
       "      <td>[(medicina veterinária, 0.3913), (zootecnia ag...</td>\n",
       "      <td>0.618906</td>\n",
       "    </tr>\n",
       "    <tr>\n",
       "      <th>492</th>\n",
       "      <td>atribuições   elaboração ...</td>\n",
       "      <td>[(possuir veículo, 0.4573), (diferencial marca...</td>\n",
       "      <td>0.621402</td>\n",
       "    </tr>\n",
       "    <tr>\n",
       "      <th>649</th>\n",
       "      <td>atividades   atendimento ...</td>\n",
       "      <td>[(estudante veterinária, 0.4174), (produtos ve...</td>\n",
       "      <td>0.622071</td>\n",
       "    </tr>\n",
       "  </tbody>\n",
       "</table>\n",
       "</div>"
      ],
      "text/plain": [
       "                                                   doc  \\\n",
       "852                       descrição   prover atendi...   \n",
       "694                       estamos em busca de estud...   \n",
       "690                       pré requisitos   formação...   \n",
       "856                       oportunidade para consult...   \n",
       "340                       atribuições   realizar ve...   \n",
       "584                       quais serão as atividades...   \n",
       "722                       requisitos   formação zoo...   \n",
       "163                       requisitos   disponibilid...   \n",
       "492                       atribuições   elaboração ...   \n",
       "649                       atividades   atendimento ...   \n",
       "\n",
       "                                                  keys  distances  \n",
       "852  [(clínica veterinária, 0.3921), (pré estabelec...   0.481387  \n",
       "694  [(veterinária zootecnia, 0.3019), (mercado pet...   0.524255  \n",
       "690  [(inglês intermediário, 0.3841), (promotor téc...   0.552846  \n",
       "856  [(veterinária zootecnia, 0.3928), (medicina ve...   0.582246  \n",
       "340  [(zootecnia medicina, 0.5225), (nutrição anima...   0.593750  \n",
       "584  [(clínica veterinária, 0.47), (precisa concorr...   0.598223  \n",
       "722  [(medicina veterinária, 0.4252), (zootecnia me...   0.615298  \n",
       "163  [(medicina veterinária, 0.3913), (zootecnia ag...   0.618906  \n",
       "492  [(possuir veículo, 0.4573), (diferencial marca...   0.621402  \n",
       "649  [(estudante veterinária, 0.4174), (produtos ve...   0.622071  "
      ]
     },
     "execution_count": 9,
     "metadata": {},
     "output_type": "execute_result"
    }
   ],
   "source": [
    "out"
   ]
  },
  {
   "cell_type": "code",
   "execution_count": null,
   "id": "d4ce84fe-bd79-4421-aa33-8127f595ad93",
   "metadata": {},
   "outputs": [],
   "source": []
  },
  {
   "cell_type": "code",
   "execution_count": 10,
   "id": "35d2675b-af9d-4951-971c-d3086259344e",
   "metadata": {},
   "outputs": [
    {
     "data": {
      "text/plain": [
       "[('diferencial iniciação', 0.6228),\n",
       " ('pet pet', 0.1888),\n",
       " ('ramo veterinário', 0.3736),\n",
       " ('técnico marcado', 0.5013),\n",
       " ('pré requisitos', 0.3837),\n",
       " ('medicina veterinária', 0.476),\n",
       " ('inglês intermediário', 0.3841),\n",
       " ('anterior promotor', 0.3599),\n",
       " ('assistência técnica', 0.5653),\n",
       " ('intermediário avançado', 0.5498)]"
      ]
     },
     "execution_count": 10,
     "metadata": {},
     "output_type": "execute_result"
    }
   ],
   "source": [
    "keys"
   ]
  },
  {
   "cell_type": "code",
   "execution_count": 11,
   "id": "ed3f2cd0-2d9a-400b-967d-61c216a758de",
   "metadata": {},
   "outputs": [
    {
     "data": {
      "text/plain": [
       "[[('clínica veterinária', 0.3921),\n",
       "  ('pré estabelecidas', 0.3996),\n",
       "  ('coordenar equipe', 0.4025),\n",
       "  ('medicina veterinária', 0.413),\n",
       "  ('diferencial marcado', 0.4938),\n",
       "  ('requisitos experiência', 0.5235),\n",
       "  ('completo medicina', 0.528),\n",
       "  ('superior completo', 0.5449),\n",
       "  ('marcado atendimento', 0.5695),\n",
       "  ('responsável técnico', 0.5764)],\n",
       " [('veterinária zootecnia', 0.3019),\n",
       "  ('mercado pet', 0.3947),\n",
       "  ('segmento pet', 0.3983),\n",
       "  ('estudante veterinária', 0.4121),\n",
       "  ('marcado atendimento', 0.5185),\n",
       "  ('atendimento cliente', 0.5758)],\n",
       " [('inglês intermediário', 0.3841),\n",
       "  ('promotor técnico', 0.4276),\n",
       "  ('experiência anterior', 0.4468),\n",
       "  ('medicina veterinária', 0.476),\n",
       "  ('veterinária experiência', 0.5104),\n",
       "  ('intermediário avançado', 0.5498),\n",
       "  ('marcado assistência', 0.5504),\n",
       "  ('assistência técnica', 0.5653),\n",
       "  ('formação medicina', 0.5807),\n",
       "  ('requisitos formação', 0.591)],\n",
       " [('veterinária zootecnia', 0.3928),\n",
       "  ('medicina veterinária', 0.4569),\n",
       "  ('ensino superior', 0.4569),\n",
       "  ('cliente produtos', 0.4614),\n",
       "  ('atendimento vendas', 0.4654),\n",
       "  ('atendimento cliente', 0.5059),\n",
       "  ('marcado atendimento', 0.5422),\n",
       "  ('áreas afins', 0.5493),\n",
       "  ('superior completo', 0.5551),\n",
       "  ('completo medicina', 0.5693)],\n",
       " [('zootecnia medicina', 0.5225),\n",
       "  ('nutrição animal', 0.5328),\n",
       "  ('realizar venda', 0.5345),\n",
       "  ('agronomia técnico', 0.5669),\n",
       "  ('técnico agrícola', 0.5671),\n",
       "  ('atribuições realizar', 0.5753),\n",
       "  ('veterinária agronomia', 0.5811),\n",
       "  ('marcado fertilizantes', 0.5874),\n",
       "  ('pastagens nutrição', 0.6265),\n",
       "  ('desejado formação', 0.6454)],\n",
       " [('clínica veterinária', 0.47),\n",
       "  ('precisa concorrer', 0.484),\n",
       "  ('pequenos animais', 0.4944),\n",
       "  ('desejável pós', 0.5067),\n",
       "  ('medicina veterinária', 0.508),\n",
       "  ('marcado clínica', 0.5138),\n",
       "  ('veterinária experiência', 0.6023),\n",
       "  ('graduação especialização', 0.6175),\n",
       "  ('completa medicina', 0.6639),\n",
       "  ('formação completa', 0.7076)],\n",
       " [('medicina veterinária', 0.4252),\n",
       "  ('zootecnia medicina', 0.4436),\n",
       "  ('prospecção clientes', 0.5153),\n",
       "  ('marcado produção', 0.575),\n",
       "  ('produção animal', 0.5886),\n",
       "  ('assistência técnica', 0.6052),\n",
       "  ('requisitos formação', 0.6113)],\n",
       " [('medicina veterinária', 0.3913),\n",
       "  ('zootecnia agronomia', 0.424),\n",
       "  ('campo marcado', 0.4266),\n",
       "  ('marcado bovinocultura', 0.442),\n",
       "  ('agronomia medicina', 0.4618),\n",
       "  ('nutrição animal', 0.471),\n",
       "  ('requisitos disponibilidade', 0.4937),\n",
       "  ('disponibilidade residir', 0.5184),\n",
       "  ('desejável experiência', 0.5527),\n",
       "  ('desejável formação', 0.6097)],\n",
       " [('possuir veículo', 0.4573),\n",
       "  ('diferencial marcado', 0.4772),\n",
       "  ('completo veterinária', 0.4916),\n",
       "  ('produtos acabados', 0.5061),\n",
       "  ('alimentação animal', 0.5072),\n",
       "  ('assuntos regulatórios', 0.5516),\n",
       "  ('intermediário avançado', 0.5556),\n",
       "  ('superior completo', 0.5558),\n",
       "  ('requisitos superior', 0.5742),\n",
       "  ('conhecimento intermediário', 0.6884)],\n",
       " [('estudante veterinária', 0.4174),\n",
       "  ('produtos veterinários', 0.4575),\n",
       "  ('nutrição animal', 0.4791),\n",
       "  ('assistência médica', 0.531),\n",
       "  ('médica assistência', 0.531),\n",
       "  ('atendimento cliente', 0.5471),\n",
       "  ('marcado nutrição', 0.5723),\n",
       "  ('atividades atendimento', 0.6029),\n",
       "  ('conhecimento nutrição', 0.6157),\n",
       "  ('assistência odontológica', 0.6266)]]"
      ]
     },
     "execution_count": 11,
     "metadata": {},
     "output_type": "execute_result"
    }
   ],
   "source": [
    "out[\"keys\"].to_list()"
   ]
  },
  {
   "cell_type": "code",
   "execution_count": null,
   "id": "58f3c99e-62f4-403b-b582-7bb6fc32ca2a",
   "metadata": {},
   "outputs": [],
   "source": []
  }
 ],
 "metadata": {
  "kernelspec": {
   "display_name": "Python 3",
   "language": "python",
   "name": "python3"
  },
  "language_info": {
   "codemirror_mode": {
    "name": "ipython",
    "version": 3
   },
   "file_extension": ".py",
   "mimetype": "text/x-python",
   "name": "python",
   "nbconvert_exporter": "python",
   "pygments_lexer": "ipython3",
   "version": "3.8.0"
  }
 },
 "nbformat": 4,
 "nbformat_minor": 5
}
