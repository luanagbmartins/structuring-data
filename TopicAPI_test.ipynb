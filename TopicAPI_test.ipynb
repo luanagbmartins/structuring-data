{
 "cells": [
  {
   "cell_type": "code",
   "execution_count": 1,
   "id": "6c7e4b3b-53ea-4b33-afe3-abfc17979bef",
   "metadata": {},
   "outputs": [],
   "source": [
    "import jsonlines"
   ]
  },
  {
   "cell_type": "code",
   "execution_count": 2,
   "id": "b4dda380-5edb-47ae-9edb-2c896f8afc83",
   "metadata": {},
   "outputs": [],
   "source": [
    "descriptions=[]\n",
    "with jsonlines.open('output_jobs.jl') as f:\n",
    "\n",
    "    for line in f.iter():\n",
    "\n",
    "        descriptions.append(line['description'].replace(\"\\n\",\"\").replace(\"\\r\", \"\"))"
   ]
  },
  {
   "cell_type": "code",
   "execution_count": 3,
   "id": "35153174-731a-4c30-886f-cf03f698f830",
   "metadata": {},
   "outputs": [],
   "source": [
    "import random\n",
    "random.shuffle(descriptions)\n",
    "split_point = int(len(descriptions)*0.10)\n",
    "set_01 = descriptions[:-split_point]\n",
    "set_02 = descriptions[-split_point:]"
   ]
  },
  {
   "cell_type": "code",
   "execution_count": 4,
   "id": "d2214df4-f8fe-447c-bc0e-16983fd25ebf",
   "metadata": {},
   "outputs": [],
   "source": [
    "from topic_similarity import Finder, extract_topics"
   ]
  },
  {
   "cell_type": "code",
   "execution_count": 5,
   "id": "1506022a-b320-4ec1-9205-8943bf6edcae",
   "metadata": {},
   "outputs": [
    {
     "name": "stdout",
     "output_type": "stream",
     "text": [
      "----- Strating at 2021-06-24_21-12-20-062209 -----\n",
      "21-12-20-067758 ----- Loading Models -----\n"
     ]
    },
    {
     "name": "stderr",
     "output_type": "stream",
     "text": [
      "  0%|          | 0/877 [00:00<?, ?it/s]"
     ]
    },
    {
     "name": "stdout",
     "output_type": "stream",
     "text": [
      "21-12-41-234010 ----- Searching for Most Representative Topics -----\n"
     ]
    },
    {
     "name": "stderr",
     "output_type": "stream",
     "text": [
      "100%|██████████| 877/877 [00:54<00:00, 16.13it/s]\n",
      "2021-06-24 21:13:35,601 - BERTopic - Transformed documents to Embeddings\n",
      "2021-06-24 21:13:42,922 - BERTopic - Reduced dimensionality with UMAP\n",
      "2021-06-24 21:13:42,983 - BERTopic - Clustered UMAP embeddings with HDBSCAN\n",
      "100%|██████████| 877/877 [00:00<00:00, 1885.27it/s]\n",
      "2021-06-24 21:13:49,151 - BERTopic - Transformed documents to Embeddings\n",
      "2021-06-24 21:13:52,319 - BERTopic - Reduced dimensionality with UMAP\n",
      "2021-06-24 21:13:52,387 - BERTopic - Clustered UMAP embeddings with HDBSCAN\n",
      "100%|██████████| 877/877 [00:00<00:00, 1895.35it/s]\n",
      "2021-06-24 21:13:59,524 - BERTopic - Transformed documents to Embeddings\n",
      "2021-06-24 21:14:02,689 - BERTopic - Reduced dimensionality with UMAP\n",
      "2021-06-24 21:14:02,735 - BERTopic - Clustered UMAP embeddings with HDBSCAN\n",
      "100%|██████████| 877/877 [00:00<00:00, 1668.73it/s]\n",
      "2021-06-24 21:14:03,753 - BERTopic - Transformed documents to Embeddings\n",
      "2021-06-24 21:14:07,550 - BERTopic - Reduced dimensionality with UMAP\n",
      "2021-06-24 21:14:07,617 - BERTopic - Clustered UMAP embeddings with HDBSCAN\n",
      "100%|██████████| 877/877 [00:00<00:00, 1627.91it/s]\n",
      "2021-06-24 21:14:11,025 - BERTopic - Transformed documents to Embeddings\n",
      "2021-06-24 21:14:14,167 - BERTopic - Reduced dimensionality with UMAP\n",
      "2021-06-24 21:14:14,232 - BERTopic - Clustered UMAP embeddings with HDBSCAN\n",
      "100%|██████████| 877/877 [00:00<00:00, 1720.56it/s]\n",
      "2021-06-24 21:14:16,378 - BERTopic - Transformed documents to Embeddings\n",
      "2021-06-24 21:14:19,696 - BERTopic - Reduced dimensionality with UMAP\n",
      "2021-06-24 21:14:19,763 - BERTopic - Clustered UMAP embeddings with HDBSCAN\n",
      "100%|██████████| 877/877 [00:00<00:00, 1930.91it/s]\n",
      "2021-06-24 21:14:22,457 - BERTopic - Transformed documents to Embeddings\n",
      "2021-06-24 21:14:25,581 - BERTopic - Reduced dimensionality with UMAP\n",
      "2021-06-24 21:14:25,643 - BERTopic - Clustered UMAP embeddings with HDBSCAN\n",
      "100%|██████████| 877/877 [00:00<00:00, 1643.41it/s]\n",
      "2021-06-24 21:14:28,112 - BERTopic - Transformed documents to Embeddings\n",
      "2021-06-24 21:14:31,289 - BERTopic - Reduced dimensionality with UMAP\n",
      "2021-06-24 21:14:31,358 - BERTopic - Clustered UMAP embeddings with HDBSCAN\n",
      "100%|██████████| 877/877 [00:00<00:00, 1684.24it/s]\n",
      "2021-06-24 21:14:33,662 - BERTopic - Transformed documents to Embeddings\n",
      "2021-06-24 21:14:37,035 - BERTopic - Reduced dimensionality with UMAP\n",
      "2021-06-24 21:14:37,105 - BERTopic - Clustered UMAP embeddings with HDBSCAN\n",
      "100%|██████████| 877/877 [00:00<00:00, 1678.50it/s]\n",
      "2021-06-24 21:14:39,633 - BERTopic - Transformed documents to Embeddings\n",
      "2021-06-24 21:14:42,748 - BERTopic - Reduced dimensionality with UMAP\n",
      "2021-06-24 21:14:42,811 - BERTopic - Clustered UMAP embeddings with HDBSCAN\n",
      "100%|██████████| 10/10 [02:03<00:00, 12.30s/it]\n"
     ]
    },
    {
     "name": "stdout",
     "output_type": "stream",
     "text": [
      "21-14-46-138641 ----- Saving Index and Data -----\n",
      "21-14-46-139260----- Index Saved At: topic_models/2021-06-24_21-12-20-062209/nms_index.index\n",
      "21-14-46-146503----- Docs Saved At: topic_models/2021-06-24_21-12-20-062209/docs.pkl\n",
      "21-14-46-385280----- Topic Model Saved At: topic_models/2021-06-24_21-12-20-062209/topic_model\n",
      "    Topic  Count                                               Name\n",
      "0      -1    214            -1_experiência_animal_nutrição_produção\n",
      "1       0    124  0_ambiental_segurança_ambiente_segurança trabalho\n",
      "2       1     79              1_vendas_clientes_cliente_experiência\n",
      "3       2     63  2_agrícola_agrícolas_agronomia_disponibilidade...\n",
      "4       3     59   3_laboratório_biologia_biomedicina_microbiologia\n",
      "5       4     50            4_agrícola_agrícolas_operações_máquinas\n",
      "6       5     45      5_animal_nutrição_nutrição animal_veterinária\n",
      "7       6     28  6_veterinários_vendas principais_medicina vete...\n",
      "8       7     24  7_produção vegetal_nutrição vegetal_superior a...\n",
      "9       8     23  8_veterinários_produtos veterinários_veterinár...\n",
      "11      9     22  9_conhecimento_programas nutricionais_nutrição...\n",
      "10     10     22  10_alimentos_controle qualidade_segurança alim...\n",
      "12     11     16  11_família_produtos veterinários_veterinários_...\n",
      "13     12     16           12_produção_qualidade_production_equipes\n",
      "14     13     15  13_animal_nutrição animal_zootecnia_medicina v...\n",
      "15     14     15  14_florestal_florestais_engenharia florestal_e...\n",
      "16     15     15  15_produtos agropecuários_leite conflitem_conf...\n",
      "17     16     14  16_região atuação_fertilizantes_engenharia agr...\n",
      "18     17     11  17_seguros_credenciamento pj_seguros crédito_c...\n",
      "19     18     11  18_bovinocultura_clientes_clientes atuais_expe...\n",
      "20     19     11  19_leite_leiteira_qualidade leite_pecuária lei...\n",
      "                                                 doc  topic  \\\n",
      "0                       atribuições   orientar e ...      4   \n",
      "1                       faça parte do nosso time!...     18   \n",
      "2                       responsabilidades e atrib...      4   \n",
      "3                       requisitos   cnh categori...      2   \n",
      "4                       descrição   atuar como re...      8   \n",
      "\n",
      "                                           distances  \n",
      "0  [0.1155729893477717, 0.0569264961553175, 0.014...  \n",
      "1  [0.1975137996882354, 0.008209751084074462, 0.1...  \n",
      "2  [0.16235528673053792, 0.07532321608176178, 0.0...  \n",
      "3  [0.19972487598600427, 0.10775776828103006, 0.0...  \n",
      "4  [0.20104406960380178, 0.033351631553822765, 0....  \n"
     ]
    }
   ],
   "source": [
    "extract_topics(set_01)"
   ]
  },
  {
   "cell_type": "code",
   "execution_count": 5,
   "id": "4d1ad3fd-8d49-4583-8e15-f9ba35afb9ea",
   "metadata": {},
   "outputs": [],
   "source": [
    "finder = Finder(\"topic_models/2021-06-24_21-12-20-062209\")"
   ]
  },
  {
   "cell_type": "code",
   "execution_count": 6,
   "id": "f8196a86-9ea2-4a98-b91d-247749a28c28",
   "metadata": {},
   "outputs": [
    {
     "data": {
      "text/plain": [
       "'                     Descrição   Médico Veterinário, para atuar como Pesquisador Clínico, responsável pela elaboração de protocolos de estudos e condução de ensaios clínicos com variadas espécies.   Requisitos   Conhecimento em boas práticas clínicas;  Facilidade para trabalhar em equipe.   Marcado como:  Clínica Veterinária ,  Experimentação             '"
      ]
     },
     "execution_count": 6,
     "metadata": {},
     "output_type": "execute_result"
    }
   ],
   "source": [
    "set_02[4]"
   ]
  },
  {
   "cell_type": "code",
   "execution_count": 7,
   "id": "4dfc556a-20eb-46ef-8e3f-3a4f98a3b4de",
   "metadata": {},
   "outputs": [
    {
     "name": "stderr",
     "output_type": "stream",
     "text": [
      "100%|██████████| 1/1 [00:00<00:00, 1601.49it/s]\n"
     ]
    }
   ],
   "source": [
    "out, topic = finder.get_similar(set_02[4])"
   ]
  },
  {
   "cell_type": "code",
   "execution_count": 8,
   "id": "249adb95-af37-45a6-ac81-7cc157435a5b",
   "metadata": {},
   "outputs": [
    {
     "data": {
      "text/plain": [
       "-1"
      ]
     },
     "execution_count": 8,
     "metadata": {},
     "output_type": "execute_result"
    }
   ],
   "source": [
    "topic"
   ]
  },
  {
   "cell_type": "code",
   "execution_count": 9,
   "id": "34921d89-ba88-4685-91fc-6cb39ad05685",
   "metadata": {},
   "outputs": [
    {
     "data": {
      "text/html": [
       "<div>\n",
       "<style scoped>\n",
       "    .dataframe tbody tr th:only-of-type {\n",
       "        vertical-align: middle;\n",
       "    }\n",
       "\n",
       "    .dataframe tbody tr th {\n",
       "        vertical-align: top;\n",
       "    }\n",
       "\n",
       "    .dataframe thead th {\n",
       "        text-align: right;\n",
       "    }\n",
       "</style>\n",
       "<table border=\"1\" class=\"dataframe\">\n",
       "  <thead>\n",
       "    <tr style=\"text-align: right;\">\n",
       "      <th></th>\n",
       "      <th>doc</th>\n",
       "      <th>topic</th>\n",
       "      <th>distances</th>\n",
       "      <th>dists</th>\n",
       "    </tr>\n",
       "  </thead>\n",
       "  <tbody>\n",
       "    <tr>\n",
       "      <th>771</th>\n",
       "      <td>descrição   médico veteri...</td>\n",
       "      <td>-1</td>\n",
       "      <td>[0.1437892428892112, 0.017689400694795878, 0.0...</td>\n",
       "      <td>0.000000</td>\n",
       "    </tr>\n",
       "    <tr>\n",
       "      <th>588</th>\n",
       "      <td>quais serão as atividades...</td>\n",
       "      <td>-1</td>\n",
       "      <td>[0.15996210183719148, 0.01668692396611488, 0.0...</td>\n",
       "      <td>0.019143</td>\n",
       "    </tr>\n",
       "    <tr>\n",
       "      <th>864</th>\n",
       "      <td>requisitos   formação: me...</td>\n",
       "      <td>-1</td>\n",
       "      <td>[0.16498892922322617, 0.01673441243010846, -0....</td>\n",
       "      <td>0.022225</td>\n",
       "    </tr>\n",
       "    <tr>\n",
       "      <th>506</th>\n",
       "      <td>vaga em tradicional hospi...</td>\n",
       "      <td>11</td>\n",
       "      <td>[0.17384737130629768, 0.01268050008178703, 0.0...</td>\n",
       "      <td>0.022655</td>\n",
       "    </tr>\n",
       "    <tr>\n",
       "      <th>186</th>\n",
       "      <td>indústria de confecções e...</td>\n",
       "      <td>11</td>\n",
       "      <td>[0.12613406523296194, 0.022753020327936982, 0....</td>\n",
       "      <td>0.027885</td>\n",
       "    </tr>\n",
       "    <tr>\n",
       "      <th>490</th>\n",
       "      <td>vaga em tradicional clíni...</td>\n",
       "      <td>-1</td>\n",
       "      <td>[0.17854487748287037, 0.0013931312890102239, 0...</td>\n",
       "      <td>0.029192</td>\n",
       "    </tr>\n",
       "    <tr>\n",
       "      <th>711</th>\n",
       "      <td>atividades   visitas aos ...</td>\n",
       "      <td>8</td>\n",
       "      <td>[0.16926650424811604, 0.0032406084915983487, 0...</td>\n",
       "      <td>0.030422</td>\n",
       "    </tr>\n",
       "    <tr>\n",
       "      <th>10</th>\n",
       "      <td>quais serão as atividades...</td>\n",
       "      <td>-1</td>\n",
       "      <td>[0.21037314274011212, 0.020364041603874887, 0....</td>\n",
       "      <td>0.030468</td>\n",
       "    </tr>\n",
       "    <tr>\n",
       "      <th>805</th>\n",
       "      <td>atribuições   realizar vi...</td>\n",
       "      <td>8</td>\n",
       "      <td>[0.16745514877005938, -0.005142346283656054, 0...</td>\n",
       "      <td>0.030485</td>\n",
       "    </tr>\n",
       "    <tr>\n",
       "      <th>709</th>\n",
       "      <td>vaga para estágio estudan...</td>\n",
       "      <td>-1</td>\n",
       "      <td>[0.2261535381822238, 0.043130436161010074, 0.0...</td>\n",
       "      <td>0.034247</td>\n",
       "    </tr>\n",
       "  </tbody>\n",
       "</table>\n",
       "</div>"
      ],
      "text/plain": [
       "                                                   doc  topic  \\\n",
       "771                       descrição   médico veteri...     -1   \n",
       "588                       quais serão as atividades...     -1   \n",
       "864                       requisitos   formação: me...     -1   \n",
       "506                       vaga em tradicional hospi...     11   \n",
       "186                       indústria de confecções e...     11   \n",
       "490                       vaga em tradicional clíni...     -1   \n",
       "711                       atividades   visitas aos ...      8   \n",
       "10                        quais serão as atividades...     -1   \n",
       "805                       atribuições   realizar vi...      8   \n",
       "709                       vaga para estágio estudan...     -1   \n",
       "\n",
       "                                             distances     dists  \n",
       "771  [0.1437892428892112, 0.017689400694795878, 0.0...  0.000000  \n",
       "588  [0.15996210183719148, 0.01668692396611488, 0.0...  0.019143  \n",
       "864  [0.16498892922322617, 0.01673441243010846, -0....  0.022225  \n",
       "506  [0.17384737130629768, 0.01268050008178703, 0.0...  0.022655  \n",
       "186  [0.12613406523296194, 0.022753020327936982, 0....  0.027885  \n",
       "490  [0.17854487748287037, 0.0013931312890102239, 0...  0.029192  \n",
       "711  [0.16926650424811604, 0.0032406084915983487, 0...  0.030422  \n",
       "10   [0.21037314274011212, 0.020364041603874887, 0....  0.030468  \n",
       "805  [0.16745514877005938, -0.005142346283656054, 0...  0.030485  \n",
       "709  [0.2261535381822238, 0.043130436161010074, 0.0...  0.034247  "
      ]
     },
     "execution_count": 9,
     "metadata": {},
     "output_type": "execute_result"
    }
   ],
   "source": [
    "out"
   ]
  },
  {
   "cell_type": "code",
   "execution_count": 10,
   "id": "1bb0d62f-038c-401d-ae4d-5f7ae30f131a",
   "metadata": {},
   "outputs": [
    {
     "data": {
      "text/html": [
       "<div>\n",
       "<style scoped>\n",
       "    .dataframe tbody tr th:only-of-type {\n",
       "        vertical-align: middle;\n",
       "    }\n",
       "\n",
       "    .dataframe tbody tr th {\n",
       "        vertical-align: top;\n",
       "    }\n",
       "\n",
       "    .dataframe thead th {\n",
       "        text-align: right;\n",
       "    }\n",
       "</style>\n",
       "<table border=\"1\" class=\"dataframe\">\n",
       "  <thead>\n",
       "    <tr style=\"text-align: right;\">\n",
       "      <th></th>\n",
       "      <th>Topic</th>\n",
       "      <th>Count</th>\n",
       "      <th>Name</th>\n",
       "    </tr>\n",
       "  </thead>\n",
       "  <tbody>\n",
       "    <tr>\n",
       "      <th>0</th>\n",
       "      <td>-1</td>\n",
       "      <td>214</td>\n",
       "      <td>-1_experiência_animal_nutrição_produção</td>\n",
       "    </tr>\n",
       "    <tr>\n",
       "      <th>1</th>\n",
       "      <td>0</td>\n",
       "      <td>124</td>\n",
       "      <td>0_ambiental_segurança_ambiente_segurança trabalho</td>\n",
       "    </tr>\n",
       "    <tr>\n",
       "      <th>2</th>\n",
       "      <td>1</td>\n",
       "      <td>79</td>\n",
       "      <td>1_vendas_clientes_cliente_experiência</td>\n",
       "    </tr>\n",
       "    <tr>\n",
       "      <th>3</th>\n",
       "      <td>2</td>\n",
       "      <td>63</td>\n",
       "      <td>2_agrícola_agrícolas_agronomia_disponibilidade...</td>\n",
       "    </tr>\n",
       "    <tr>\n",
       "      <th>4</th>\n",
       "      <td>3</td>\n",
       "      <td>59</td>\n",
       "      <td>3_laboratório_biologia_biomedicina_microbiologia</td>\n",
       "    </tr>\n",
       "    <tr>\n",
       "      <th>5</th>\n",
       "      <td>4</td>\n",
       "      <td>50</td>\n",
       "      <td>4_agrícola_agrícolas_operações_máquinas</td>\n",
       "    </tr>\n",
       "    <tr>\n",
       "      <th>6</th>\n",
       "      <td>5</td>\n",
       "      <td>45</td>\n",
       "      <td>5_animal_nutrição_nutrição animal_veterinária</td>\n",
       "    </tr>\n",
       "    <tr>\n",
       "      <th>7</th>\n",
       "      <td>6</td>\n",
       "      <td>28</td>\n",
       "      <td>6_veterinários_vendas principais_medicina vete...</td>\n",
       "    </tr>\n",
       "    <tr>\n",
       "      <th>8</th>\n",
       "      <td>7</td>\n",
       "      <td>24</td>\n",
       "      <td>7_produção vegetal_nutrição vegetal_superior a...</td>\n",
       "    </tr>\n",
       "    <tr>\n",
       "      <th>9</th>\n",
       "      <td>8</td>\n",
       "      <td>23</td>\n",
       "      <td>8_veterinários_produtos veterinários_veterinár...</td>\n",
       "    </tr>\n",
       "    <tr>\n",
       "      <th>11</th>\n",
       "      <td>9</td>\n",
       "      <td>22</td>\n",
       "      <td>9_conhecimento_programas nutricionais_nutrição...</td>\n",
       "    </tr>\n",
       "    <tr>\n",
       "      <th>10</th>\n",
       "      <td>10</td>\n",
       "      <td>22</td>\n",
       "      <td>10_alimentos_controle qualidade_segurança alim...</td>\n",
       "    </tr>\n",
       "    <tr>\n",
       "      <th>12</th>\n",
       "      <td>11</td>\n",
       "      <td>16</td>\n",
       "      <td>11_família_produtos veterinários_veterinários_...</td>\n",
       "    </tr>\n",
       "    <tr>\n",
       "      <th>13</th>\n",
       "      <td>12</td>\n",
       "      <td>16</td>\n",
       "      <td>12_produção_qualidade_production_equipes</td>\n",
       "    </tr>\n",
       "    <tr>\n",
       "      <th>14</th>\n",
       "      <td>13</td>\n",
       "      <td>15</td>\n",
       "      <td>13_animal_nutrição animal_zootecnia_medicina v...</td>\n",
       "    </tr>\n",
       "    <tr>\n",
       "      <th>15</th>\n",
       "      <td>14</td>\n",
       "      <td>15</td>\n",
       "      <td>14_florestal_florestais_engenharia florestal_e...</td>\n",
       "    </tr>\n",
       "    <tr>\n",
       "      <th>16</th>\n",
       "      <td>15</td>\n",
       "      <td>15</td>\n",
       "      <td>15_produtos agropecuários_leite conflitem_conf...</td>\n",
       "    </tr>\n",
       "    <tr>\n",
       "      <th>17</th>\n",
       "      <td>16</td>\n",
       "      <td>14</td>\n",
       "      <td>16_região atuação_fertilizantes_engenharia agr...</td>\n",
       "    </tr>\n",
       "    <tr>\n",
       "      <th>18</th>\n",
       "      <td>17</td>\n",
       "      <td>11</td>\n",
       "      <td>17_seguros_credenciamento pj_seguros crédito_c...</td>\n",
       "    </tr>\n",
       "    <tr>\n",
       "      <th>19</th>\n",
       "      <td>18</td>\n",
       "      <td>11</td>\n",
       "      <td>18_bovinocultura_clientes_clientes atuais_expe...</td>\n",
       "    </tr>\n",
       "    <tr>\n",
       "      <th>20</th>\n",
       "      <td>19</td>\n",
       "      <td>11</td>\n",
       "      <td>19_leite_leiteira_qualidade leite_pecuária lei...</td>\n",
       "    </tr>\n",
       "  </tbody>\n",
       "</table>\n",
       "</div>"
      ],
      "text/plain": [
       "    Topic  Count                                               Name\n",
       "0      -1    214            -1_experiência_animal_nutrição_produção\n",
       "1       0    124  0_ambiental_segurança_ambiente_segurança trabalho\n",
       "2       1     79              1_vendas_clientes_cliente_experiência\n",
       "3       2     63  2_agrícola_agrícolas_agronomia_disponibilidade...\n",
       "4       3     59   3_laboratório_biologia_biomedicina_microbiologia\n",
       "5       4     50            4_agrícola_agrícolas_operações_máquinas\n",
       "6       5     45      5_animal_nutrição_nutrição animal_veterinária\n",
       "7       6     28  6_veterinários_vendas principais_medicina vete...\n",
       "8       7     24  7_produção vegetal_nutrição vegetal_superior a...\n",
       "9       8     23  8_veterinários_produtos veterinários_veterinár...\n",
       "11      9     22  9_conhecimento_programas nutricionais_nutrição...\n",
       "10     10     22  10_alimentos_controle qualidade_segurança alim...\n",
       "12     11     16  11_família_produtos veterinários_veterinários_...\n",
       "13     12     16           12_produção_qualidade_production_equipes\n",
       "14     13     15  13_animal_nutrição animal_zootecnia_medicina v...\n",
       "15     14     15  14_florestal_florestais_engenharia florestal_e...\n",
       "16     15     15  15_produtos agropecuários_leite conflitem_conf...\n",
       "17     16     14  16_região atuação_fertilizantes_engenharia agr...\n",
       "18     17     11  17_seguros_credenciamento pj_seguros crédito_c...\n",
       "19     18     11  18_bovinocultura_clientes_clientes atuais_expe...\n",
       "20     19     11  19_leite_leiteira_qualidade leite_pecuária lei..."
      ]
     },
     "execution_count": 10,
     "metadata": {},
     "output_type": "execute_result"
    }
   ],
   "source": [
    "finder.topic_model.get_topic_info()"
   ]
  },
  {
   "cell_type": "code",
   "execution_count": 15,
   "id": "1911eccf-f680-48f2-99ac-d3e5fb962c80",
   "metadata": {},
   "outputs": [
    {
     "data": {
      "text/plain": [
       "'                     vaga em tradicional hospital veterinário de barão geraldo (campinas-sp). buscamos estagiários com pró-atividade para ser parte de nossa equipe! para se candidatar a vaga de estagiário veterinário, é necessário estar devidamente matriculado no curso de medicina veterinária.  a vaga exige que o estagiário tenha disponibilidade para fazer plantões durante a semana e finais de semana (escala a definir). o tempo de estágio é de um ano.  o processo seletivo para essas vaga contam com 4 etapas: entrevista, prova teórica, período de treinamento e período de experiência. a vaga ainda conta com bolsa.  marcado como:  hospital veterinário             '"
      ]
     },
     "execution_count": 15,
     "metadata": {},
     "output_type": "execute_result"
    }
   ],
   "source": [
    "out[\"doc\"].iloc[3]"
   ]
  },
  {
   "cell_type": "code",
   "execution_count": null,
   "id": "3169ad84-96a9-495e-bbc2-39149f16e3ba",
   "metadata": {},
   "outputs": [],
   "source": []
  }
 ],
 "metadata": {
  "kernelspec": {
   "display_name": "Python 3",
   "language": "python",
   "name": "python3"
  },
  "language_info": {
   "codemirror_mode": {
    "name": "ipython",
    "version": 3
   },
   "file_extension": ".py",
   "mimetype": "text/x-python",
   "name": "python",
   "nbconvert_exporter": "python",
   "pygments_lexer": "ipython3",
   "version": "3.8.0"
  }
 },
 "nbformat": 4,
 "nbformat_minor": 5
}
